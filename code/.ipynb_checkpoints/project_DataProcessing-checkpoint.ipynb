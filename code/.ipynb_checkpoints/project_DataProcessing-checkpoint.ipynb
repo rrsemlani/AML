{
 "cells": [
  {
   "cell_type": "code",
   "execution_count": 2,
   "metadata": {},
   "outputs": [
    {
     "ename": "ModuleNotFoundError",
     "evalue": "No module named 'project_Features'",
     "output_type": "error",
     "traceback": [
      "\u001b[0;31m---------------------------------------------------------------------------\u001b[0m",
      "\u001b[0;31mModuleNotFoundError\u001b[0m                       Traceback (most recent call last)",
      "Input \u001b[0;32mIn [2]\u001b[0m, in \u001b[0;36m<module>\u001b[0;34m\u001b[0m\n\u001b[1;32m      1\u001b[0m \u001b[38;5;66;03m#1\u001b[39;00m\n\u001b[1;32m      2\u001b[0m \u001b[38;5;28;01mimport\u001b[39;00m \u001b[38;5;21;01mre\u001b[39;00m\n\u001b[0;32m----> 3\u001b[0m \u001b[38;5;28;01mfrom\u001b[39;00m \u001b[38;5;21;01mproject_Features\u001b[39;00m \u001b[38;5;28;01mimport\u001b[39;00m spacy_tokenizer, project_WordFeatures\n\u001b[1;32m      4\u001b[0m \u001b[38;5;28;01mfrom\u001b[39;00m \u001b[38;5;21;01mscipy\u001b[39;00m \u001b[38;5;28;01mimport\u001b[39;00m sparse\n\u001b[1;32m      5\u001b[0m \u001b[38;5;28;01mimport\u001b[39;00m \u001b[38;5;21;01msklearn\u001b[39;00m\n",
      "\u001b[0;31mModuleNotFoundError\u001b[0m: No module named 'project_Features'"
     ]
    }
   ],
   "source": [
    "#1\n",
    "import re\n",
    "from project_Features import spacy_tokenizer, project_WordFeatures\n",
    "from scipy import sparse\n",
    "import sklearn\n",
    "from sklearn.naive_bayes import MultinomialNB\n",
    "from sklearn.linear_model import LogisticRegression\n",
    "\n",
    "def read_examples(filename):\n",
    "    X = []\n",
    "    Y = []\n",
    "    \n",
    "    \n",
    "    with open(filename, mode = 'r') as file:\n",
    "        urls = ('http[s]?://(?:[a-zA-Z]|[0-9]|[$-_@.&+]|''[!*\\(\\),]|(?:%[0-9a-fA-F][0-9a-fA-F]))+')\n",
    "        mentions = '@[\\w\\-]+'\n",
    "        hashtags = '#[\\w\\-]+'\n",
    "        \n",
    "        \n",
    "        for line in file:\n",
    "            [label, text] = line.rstrip().split('\\t', maxsplit = 1)\n",
    "            text1 = re.sub(urls, 'URL', text)\n",
    "            text1 = re.sub(mentions, 'MENTION', text1)\n",
    "            text1 = re.sub(hashtags, 'HASHTAG', text1)\n",
    "            \n",
    "            X.append(text1)\n",
    "            Y.append(label)\n",
    "            \n",
    "    return X, Y\n",
    "\n",
    "def label_counts(Y):\n",
    "    labels = {}\n",
    "    for l in Y:\n",
    "        if l in labels:\n",
    "            labels[l] += 1\n",
    "        else:\n",
    "            labels[l] = 1\n",
    "\n",
    "    return labels\n",
    "    \n",
    "#4\n",
    "def read_examples(filename):\n",
    "    X = []\n",
    "    Y = []\n",
    "    with open(filename, mode = 'r') as file:\n",
    "        for line in file:\n",
    "            [label, text] = line.rstrip().split('\\t', maxsplit = 1)\n",
    "            X.append(text)\n",
    "            Y.append(label)\n",
    "    return X, Y\n",
    "\n",
    "\n"
   ]
  },
  {
   "cell_type": "code",
   "execution_count": null,
   "metadata": {},
   "outputs": [],
   "source": []
  }
 ],
 "metadata": {
  "kernelspec": {
   "display_name": "Python 3 (ipykernel)",
   "language": "python",
   "name": "python3"
  },
  "language_info": {
   "codemirror_mode": {
    "name": "ipython",
    "version": 3
   },
   "file_extension": ".py",
   "mimetype": "text/x-python",
   "name": "python",
   "nbconvert_exporter": "python",
   "pygments_lexer": "ipython3",
   "version": "3.9.10"
  }
 },
 "nbformat": 4,
 "nbformat_minor": 2
}
