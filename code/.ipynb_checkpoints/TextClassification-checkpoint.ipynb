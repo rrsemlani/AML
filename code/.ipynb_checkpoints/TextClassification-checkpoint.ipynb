{
 "cells": [
  {
   "cell_type": "markdown",
   "metadata": {},
   "source": [
    "# Text Classification \n",
    "\n",
    "In this assignment, you will:\n",
    "\n",
    "1. Propose a custom text classification task and create a corpus of documents that are labeled for this task.\n",
    "\n",
    "2. Propose discriminative features to be included in the feature vector representation for a document and evaluate their utility by training and testing Logistic Regression models."
   ]
  },
  {
   "cell_type": "markdown",
   "metadata": {},
   "source": [
    "## Write Your Name Here: Mukesh Dasari"
   ]
  },
  {
   "cell_type": "markdown",
   "metadata": {},
   "source": [
    "# <font color=\"blue\"> Submission Instructions</font>\n",
    "\n",
    "1. Click the Save button at the top of the Jupyter Notebook.\n",
    "2. Please make sure to have entered your name above.\n",
    "3. Select Cell -> All Output -> Clear. This will clear all the outputs from all cells (but will keep the content of ll cells). \n",
    "4. Select Cell -> Run All. This will run all the cells in order, and will take several minutes.\n",
    "5. Once you've rerun everything, select File -> Download as -> PDF via LaTeX and download a PDF version *.pdf* showing the code and the output of all cells, and save it in the same folder that contains the notebook file *.ipynb*.\n",
    "6. Look at the PDF file and make sure all your solutions are there, displayed correctly. The PDF is the only thing we will see when grading!\n",
    "7. Submit **both** your PDF and notebook on Canvas."
   ]
  },
  {
   "cell_type": "markdown",
   "metadata": {},
   "source": [
    "## Corpus acquisition and formatting\n",
    "\n",
    "1. Find at least 300 documents for some topic that interests you, along with a single label for each document.\n",
    "\n",
    "\t- The more data in your collection, the better your classification models will tend to perform on it.\n",
    "    \n",
    "\n",
    "2. Partition your data into three files train.txt, dev.txt and test.txt, with training containing 80% of the documents, development 10% and test 10%.\n",
    "\n",
    "\n",
    "3. All of the data must be in a common format:\n",
    "\n",
    "    - One example per line, using the format \"\\<label\\> \\<text\\>\", i.e. the line starts with the label, followed by a white space, followed by the text of the document.\n",
    "    - Replace all newlines in the text with \\<NEWLINE\\> and tab characters with \\<TAB\\>.\n",
    "    - See corpus under *data/sentiment/* for examples.\n",
    "    \n",
    "    \n",
    "4. Your choice of documents and labels is completely up to you. Possible sources of data:\n",
    "\n",
    "    - **Project Gutenberg**: Metadata is available at this <a href=\"https://github.com/hugovk/gutenberg-metadata\">Github repo</a> along with URLs for the texts. Labels here can be author, subject, genre, etc.\n",
    "\t- **News articles**: Crawl news articles from different domains (e.g,. CNN, FoxNews); the label for each article is the domain.\n",
    "\t- **Movie summaries**: Labels here can be any categorical metadata aspect (genre, release date); note real-valued metadata (like box office, runtime) can be discretized by selecting some reasonable thresholds.\n",
    "\t- **Tweets**: Download your own tweets. Labels here can be any categorical metadata included in the tweet, or labels you add by hand (e.g., sarcasm).\n",
    "    \n",
    "    \n",
    "5. Additional requirements:\n",
    "\n",
    "    - No sentiment classification.\n",
    "    - **Undergraduate students**: It is acceptable to use an existing dataset, e.g. from kaggle.com or other repositories. However, it is preferable that you create your own dataset.\n",
    "    - **Graduate students**: It is important that you create your own dataset. This can also serve as the basis for your project, if you choose to work on text classification for it.\n"
   ]
  },
  {
   "cell_type": "markdown",
   "metadata": {},
   "source": [
    "### Task and Dataset description\n",
    "\n",
    "Describe your data. What is the source of the documents, and what do the labels mean?"
   ]
  },
  {
   "cell_type": "markdown",
   "metadata": {},
   "source": [
    "\n",
    "\n",
    "\n",
    "In this dataset, the tweets and retweets from different users is gathered which accounts total 1028 in training set, 128 in test and dev set respectively. The source of the data is mainly twitter and some other websites as finding hate speech was challenging on current twitter page. The data is mainly labeled in two classes, hate and normal. Hate label indicates that the tweet or retweet is a hate speech and normal tweet indicates that it is the normal tweet. \n",
    "\n",
    "The main fun was to play around the data which included defining the features, removing new lines which I did while creating the data set itself. \n",
    "\n",
    "**disclaimer - This dataset has many hate and abusive words. I do not promote hate speech on any social media but idea behind gathering this data was to see how to identify if any tweet or retweet is promoting hatred on twitter.**\n",
    "\n"
   ]
  },
  {
   "cell_type": "markdown",
   "metadata": {},
   "source": [
    "### Dataset reading and statistics\n",
    "\n",
    "Change the path to match the directory containing your data and execute the *read_examples()* function below."
   ]
  },
  {
   "cell_type": "code",
   "execution_count": 1,
   "metadata": {},
   "outputs": [
    {
     "name": "stdout",
     "output_type": "stream",
     "text": [
      "Training examples: {'hate': 500, 'normal': 528}\n",
      "Development examples: {'hate': 63, 'normal': 67}\n",
      "Test examples: {'hate': 62, 'normal': 66}\n"
     ]
    }
   ],
   "source": [
    "import os\n",
    "import re\n",
    "\n",
    "def read_examples(filename):\n",
    "    X = []\n",
    "    Y = []\n",
    "    \n",
    "    \n",
    "    with open(filename, mode = 'r') as file:\n",
    "        urls = ('http[s]?://(?:[a-zA-Z]|[0-9]|[$-_@.&+]|''[!*\\(\\),]|(?:%[0-9a-fA-F][0-9a-fA-F]))+')\n",
    "        mentions = '@[\\w\\-]+'\n",
    "        hashtags = '#[\\w\\-]+'\n",
    "        \n",
    "        \n",
    "        for line in file:\n",
    "            [label, text] = line.rstrip().split('\\t', maxsplit = 1)\n",
    "            text1 = re.sub(urls, 'URL', text)\n",
    "            text1 = re.sub(mentions, 'MENTION', text1)\n",
    "            text1 = re.sub(hashtags, 'HASHTAG', text1)\n",
    "            \n",
    "            X.append(text1)\n",
    "            Y.append(label)\n",
    "            \n",
    "    return X, Y\n",
    "\n",
    "def label_counts(Y):\n",
    "    labels = {}\n",
    "    for l in Y:\n",
    "        if l in labels:\n",
    "            labels[l] += 1\n",
    "        else:\n",
    "            labels[l] = 1\n",
    "\n",
    "    return labels\n",
    "\n",
    "\n",
    "datapath = \"../data/twitter\"\n",
    "train_file = os.path.join(datapath, 'train.txt')\n",
    "trainX, trainY = read_examples(train_file)\n",
    "print(\"Training examples:\", label_counts(trainY))\n",
    "\n",
    "\n",
    "dev_file = os.path.join(datapath, 'dev.txt')\n",
    "devX, devY = read_examples(dev_file)\n",
    "print(\"Development examples:\", label_counts(devY))\n",
    "\n",
    "\n",
    "test_file = os.path.join(datapath, 'test.txt')\n",
    "testX, testY = read_examples(test_file)\n",
    "print(\"Test examples:\", label_counts(testY))"
   ]
  },
  {
   "cell_type": "code",
   "execution_count": null,
   "metadata": {},
   "outputs": [],
   "source": []
  },
  {
   "cell_type": "markdown",
   "metadata": {},
   "source": [
    "### From documents to feature vectors\n",
    "This section illustratess the prototypical components of machine learning pipeline for an NLP task, in this case document classification:\n",
    "\n",
    "1. Read document examples (train, devel, test) from files with a predefined format:\n",
    "    - assume one document per line, using the format \"\\<label\\> \\<text\\>\".\n",
    "\n",
    "2. Tokenize each document:\n",
    "    - using a spaCy tokenizer.\n",
    "\n",
    "3. Feature extractors:\n",
    "    - so far, just words.\n",
    "\n",
    "4. Process each document into a feature vector:\n",
    "    - map document to a dictionary of feature names.\n",
    "    - map feature names to unique feature IDs.\n",
    "    - each document is a feature vector, where each feature ID is mapped to a feature value (e.g. word occurences)."
   ]
  },
  {
   "cell_type": "code",
   "execution_count": 2,
   "metadata": {},
   "outputs": [],
   "source": [
    "import spacy\n",
    "from spacy.lang.en import English\n",
    "from scipy import sparse\n",
    "from sklearn.naive_bayes import MultinomialNB\n",
    "from sklearn.linear_model import LogisticRegression"
   ]
  },
  {
   "cell_type": "code",
   "execution_count": 3,
   "metadata": {},
   "outputs": [],
   "source": [
    "# Create spaCy tokenizer.\n",
    "spacy_nlp = English()\n",
    "def spacy_tokenizer(text):\n",
    "    tokens = spacy_nlp.tokenizer(text)\n",
    "    \n",
    "    return [token.text for token in tokens]"
   ]
  },
  {
   "cell_type": "code",
   "execution_count": 4,
   "metadata": {},
   "outputs": [],
   "source": [
    "def read_examples(filename):\n",
    "    X = []\n",
    "    Y = []\n",
    "    with open(filename, mode = 'r') as file:\n",
    "        for line in file:\n",
    "            [label, text] = line.rstrip().split('\\t', maxsplit = 1)\n",
    "            X.append(text)\n",
    "            Y.append(label)\n",
    "    return X, Y"
   ]
  },
  {
   "cell_type": "code",
   "execution_count": 5,
   "metadata": {},
   "outputs": [],
   "source": [
    "def word_features(tokens):\n",
    "    feats = {}\n",
    "    for word in tokens:\n",
    "        feat = 'WORD_%s' % word\n",
    "        if feat in feats:\n",
    "            feats[feat] +=1\n",
    "        else:\n",
    "            feats[feat] = 1\n",
    "    return feats"
   ]
  },
  {
   "cell_type": "code",
   "execution_count": 6,
   "metadata": {},
   "outputs": [],
   "source": [
    "def add_features(feats, new_feats):\n",
    "    for feat in new_feats:\n",
    "        if feat in feats:\n",
    "            feats[feat] += new_feats[feat]\n",
    "        else:\n",
    "            feats[feat] = new_feats[feat]\n",
    "    return feats"
   ]
  },
  {
   "cell_type": "markdown",
   "metadata": {},
   "source": [
    "This function tokenizes the document, runs all the feature extractors on it and assembles the extracted features into a dictionary mapping feature names to feature values. It is important that feature names do not conflict with each other, i.e. different features should have different names. Each document will have its own dictionary of features and their values."
   ]
  },
  {
   "cell_type": "code",
   "execution_count": 7,
   "metadata": {},
   "outputs": [],
   "source": [
    "def docs2features(trainX, feature_functions, tokenizer):\n",
    "    examples = []\n",
    "    count = 0\n",
    "    \n",
    "    for doc in trainX:\n",
    "        feats = {}\n",
    "\n",
    "        tokens = tokenizer(doc)\n",
    "        \n",
    "        for func in feature_functions:\n",
    "            add_features(feats, func(tokens))\n",
    "\n",
    "        examples.append(feats)\n",
    "        count +=1\n",
    "        \n",
    "        if count % 100 == 0:\n",
    "            print('Processed %d examples into features' % len(examples))\n",
    "    \n",
    "    return examples"
   ]
  },
  {
   "cell_type": "code",
   "execution_count": 8,
   "metadata": {},
   "outputs": [],
   "source": [
    "# This helper function converts feature names to unique numerical IDs.\n",
    "\n",
    "def create_vocab(examples):\n",
    "    feature_vocab = {}\n",
    "    idx = 0\n",
    "    for example in examples:\n",
    "        for feat in example:\n",
    "            if feat not in feature_vocab:\n",
    "                feature_vocab[feat] = idx\n",
    "                idx += 1\n",
    "                \n",
    "    return feature_vocab"
   ]
  },
  {
   "cell_type": "code",
   "execution_count": 9,
   "metadata": {},
   "outputs": [],
   "source": [
    "# This helper function converts a set of examples from a dictionary of feature names to values representation\n",
    "# to a sparse representation of feature ids to values. This is important because almost all feature values will\n",
    "# be 0 for most documents and it would be wasteful to save all in memory.\n",
    "\n",
    "def features_to_ids(examples, feature_vocab):\n",
    "    new_examples = sparse.lil_matrix((len(examples), len(feature_vocab)))\n",
    "    for idx, example in enumerate(examples):\n",
    "        for feat in example:\n",
    "            if feat in feature_vocab:\n",
    "                new_examples[idx, feature_vocab[feat]] = example[feat]\n",
    "                \n",
    "    return new_examples"
   ]
  },
  {
   "cell_type": "code",
   "execution_count": 10,
   "metadata": {},
   "outputs": [],
   "source": [
    "# Evaluation pipeline for the Logistic Regression classifier.\n",
    "\n",
    "def train_and_test(trainX, trainY, devX, devY, feature_functions, tokenizer):\n",
    "    # Pre-process training documents. \n",
    "    \n",
    "    trainX_feat = docs2features(trainX, feature_functions, tokenizer)\n",
    "\n",
    "    # Create vocabulary from features in training examples.\n",
    "    feature_vocab = create_vocab(trainX_feat)\n",
    "    print('Vocabulary size: %d' % len(feature_vocab))\n",
    "\n",
    "    trainX_ids = features_to_ids(trainX_feat, feature_vocab)\n",
    "    \n",
    "    # Train LR model.\n",
    "    lr_model = LogisticRegression(penalty = 'l2', C = 1.0, solver = 'lbfgs', max_iter = 1000)\n",
    "    lr_model.fit(trainX_ids, trainY)\n",
    "    \n",
    "    # Pre-process test documents. \n",
    "    devX_feat = docs2features(devX, feature_functions, tokenizer)\n",
    "    devX_ids = features_to_ids(devX_feat, feature_vocab)\n",
    "    \n",
    "    # Test LR model.\n",
    "    print('Accuracy: %.3f' % lr_model.score(devX_ids, devY))"
   ]
  },
  {
   "cell_type": "code",
   "execution_count": null,
   "metadata": {},
   "outputs": [],
   "source": []
  },
  {
   "cell_type": "markdown",
   "metadata": {},
   "source": [
    "### Feature engineering\n",
    "\n",
    "Create two new feature functions, and include them in the *features* list.\n",
    "\n",
    "- A passing grade will be given to generic features that apply across arbitrary text classification problems (e.g., a feature for bigrams);\n",
    "\n",
    "- A better grade will be given for features that reveal your own understanding of your data. What features do you think will help for your particular problem? Would features based on higher level NLP processing tasks (anmed entity recognition, syntactic parsing, coreference resolution) be useful? Your grade is not tied to whether accuracy goes up or down, so be creative!\n",
    "\n",
    "- You are free to read in any other external resources you like (dictionaries, document metadata, etc.)"
   ]
  },
  {
   "cell_type": "code",
   "execution_count": 11,
   "metadata": {},
   "outputs": [],
   "source": [
    "def feature_len(tokens):\n",
    "    feat = {'DOC_LEN' : len(tokens)}\n",
    "    return feat"
   ]
  },
  {
   "cell_type": "code",
   "execution_count": 12,
   "metadata": {},
   "outputs": [],
   "source": [
    "def feature_urls(tokens):\n",
    "    count = 0\n",
    "    for token in tokens:\n",
    "        if 'URL' in token:\n",
    "            count += 1\n",
    "    return {'URLS':count}"
   ]
  },
  {
   "cell_type": "code",
   "execution_count": 13,
   "metadata": {},
   "outputs": [],
   "source": [
    "def feature_mentions(tokens):\n",
    "    count = 0\n",
    "    for token in tokens:\n",
    "        if 'MENTION' in token:\n",
    "            count += 1\n",
    "            \n",
    "    return {'MENTIONS':count}"
   ]
  },
  {
   "cell_type": "code",
   "execution_count": 14,
   "metadata": {},
   "outputs": [],
   "source": [
    "def feature_hashtags(tokens):\n",
    "    count = 0\n",
    "    for token in tokens:\n",
    "        if 'HASHTAG' in token:\n",
    "            count += 1\n",
    "    \n",
    "    return {'HASHTAGS':count}"
   ]
  },
  {
   "cell_type": "code",
   "execution_count": 15,
   "metadata": {},
   "outputs": [
    {
     "name": "stdout",
     "output_type": "stream",
     "text": [
      "Processed 100 examples into features\n",
      "Processed 200 examples into features\n",
      "Processed 300 examples into features\n",
      "Processed 400 examples into features\n",
      "Processed 500 examples into features\n",
      "Processed 600 examples into features\n",
      "Processed 700 examples into features\n",
      "Processed 800 examples into features\n",
      "Processed 900 examples into features\n",
      "Processed 1000 examples into features\n",
      "Vocabulary size: 3791\n",
      "Processed 100 examples into features\n",
      "Accuracy: 0.823\n"
     ]
    }
   ],
   "source": [
    "features = [word_features]\n",
    "train_and_test(trainX, trainY, devX, devY, features, spacy_tokenizer)"
   ]
  },
  {
   "cell_type": "code",
   "execution_count": 16,
   "metadata": {},
   "outputs": [
    {
     "name": "stdout",
     "output_type": "stream",
     "text": [
      "Processed 100 examples into features\n",
      "Processed 200 examples into features\n",
      "Processed 300 examples into features\n",
      "Processed 400 examples into features\n",
      "Processed 500 examples into features\n",
      "Processed 600 examples into features\n",
      "Processed 700 examples into features\n",
      "Processed 800 examples into features\n",
      "Processed 900 examples into features\n",
      "Processed 1000 examples into features\n",
      "Vocabulary size: 3792\n",
      "Processed 100 examples into features\n",
      "Accuracy: 0.823\n"
     ]
    }
   ],
   "source": [
    "features = [word_features, feature_urls]\n",
    "train_and_test(trainX, trainY, devX, devY, features, spacy_tokenizer)"
   ]
  },
  {
   "cell_type": "code",
   "execution_count": 17,
   "metadata": {},
   "outputs": [
    {
     "name": "stdout",
     "output_type": "stream",
     "text": [
      "Processed 100 examples into features\n",
      "Processed 200 examples into features\n",
      "Processed 300 examples into features\n",
      "Processed 400 examples into features\n",
      "Processed 500 examples into features\n",
      "Processed 600 examples into features\n",
      "Processed 700 examples into features\n",
      "Processed 800 examples into features\n",
      "Processed 900 examples into features\n",
      "Processed 1000 examples into features\n",
      "Vocabulary size: 3793\n",
      "Processed 100 examples into features\n",
      "Accuracy: 0.823\n"
     ]
    }
   ],
   "source": [
    "features = [word_features, feature_urls, feature_mentions]\n",
    "train_and_test(trainX, trainY, devX, devY, features, spacy_tokenizer)"
   ]
  },
  {
   "cell_type": "code",
   "execution_count": 18,
   "metadata": {},
   "outputs": [
    {
     "name": "stdout",
     "output_type": "stream",
     "text": [
      "Processed 100 examples into features\n",
      "Processed 200 examples into features\n",
      "Processed 300 examples into features\n",
      "Processed 400 examples into features\n",
      "Processed 500 examples into features\n",
      "Processed 600 examples into features\n",
      "Processed 700 examples into features\n",
      "Processed 800 examples into features\n",
      "Processed 900 examples into features\n",
      "Processed 1000 examples into features\n",
      "Vocabulary size: 3794\n",
      "Processed 100 examples into features\n",
      "Accuracy: 0.823\n"
     ]
    }
   ],
   "source": [
    "features = [word_features, feature_urls, feature_mentions, feature_hashtags]\n",
    "train_and_test(trainX, trainY, devX, devY, features, spacy_tokenizer)"
   ]
  },
  {
   "cell_type": "code",
   "execution_count": 19,
   "metadata": {
    "scrolled": true
   },
   "outputs": [
    {
     "name": "stdout",
     "output_type": "stream",
     "text": [
      "Processed 100 examples into features\n",
      "Processed 200 examples into features\n",
      "Processed 300 examples into features\n",
      "Processed 400 examples into features\n",
      "Processed 500 examples into features\n",
      "Processed 600 examples into features\n",
      "Processed 700 examples into features\n",
      "Processed 800 examples into features\n",
      "Processed 900 examples into features\n",
      "Processed 1000 examples into features\n",
      "Vocabulary size: 3795\n",
      "Processed 100 examples into features\n",
      "Accuracy: 0.838\n"
     ]
    }
   ],
   "source": [
    "features = [word_features, feature_urls, feature_mentions, feature_hashtags, feature_len]\n",
    "train_and_test(trainX, trainY, devX, devY, features, spacy_tokenizer)"
   ]
  },
  {
   "cell_type": "markdown",
   "metadata": {},
   "source": [
    "Evaluate the impact of your features by training and testing with and without each feature."
   ]
  },
  {
   "cell_type": "code",
   "execution_count": 20,
   "metadata": {},
   "outputs": [
    {
     "name": "stdout",
     "output_type": "stream",
     "text": [
      "Processed 100 examples into features\n",
      "Processed 200 examples into features\n",
      "Processed 300 examples into features\n",
      "Processed 400 examples into features\n",
      "Processed 500 examples into features\n",
      "Processed 600 examples into features\n",
      "Processed 700 examples into features\n",
      "Processed 800 examples into features\n",
      "Processed 900 examples into features\n",
      "Processed 1000 examples into features\n",
      "Vocabulary size: 5297\n",
      "Processed 100 examples into features\n",
      "Accuracy: 0.846\n"
     ]
    }
   ],
   "source": [
    "import os\n",
    "\n",
    "datapath = '../data/twitter'\n",
    "\n",
    "train_file = os.path.join(datapath, 'train.txt')\n",
    "trainX, trainY = read_examples(train_file)\n",
    "\n",
    "dev_file = os.path.join(datapath, 'dev.txt')\n",
    "devX, devY = read_examples(dev_file)\n",
    "\n",
    "# Specify features to use. Do this multiple times, with and without the new features\n",
    "features1 = [word_features]\n",
    "\n",
    "# Evaluate LR model.\n",
    "train_and_test(trainX, trainY, devX, devY, features1, spacy_tokenizer)"
   ]
  },
  {
   "cell_type": "markdown",
   "metadata": {},
   "source": [
    "## Plot ROC Curve\n",
    "\n",
    "*Mandatory for graduate students, optional for undergraduate students.*\n",
    "\n",
    "Take your best classifier and plot a <a href=\"https://en.wikipedia.org/wiki/Receiver_operating_characteristic\">Receiver Operating Characteristic (ROC)</a> curve by varying a threshold on the probabilistic output. You can use the <a href=\"https://scikit-learn.org/stable/auto_examples/model_selection/plot_roc.html\">sklearn implementation</a>, or implement your own."
   ]
  },
  {
   "cell_type": "code",
   "execution_count": 21,
   "metadata": {},
   "outputs": [
    {
     "name": "stdout",
     "output_type": "stream",
     "text": [
      "Processed 100 examples into features\n",
      "Processed 200 examples into features\n",
      "Processed 300 examples into features\n",
      "Processed 400 examples into features\n",
      "Processed 500 examples into features\n",
      "Processed 600 examples into features\n",
      "Processed 700 examples into features\n",
      "Processed 800 examples into features\n",
      "Processed 900 examples into features\n",
      "Processed 1000 examples into features\n",
      "Processed 100 examples into features\n"
     ]
    },
    {
     "data": {
      "image/png": "[encoded data removed]",
      "text/plain": [
       "<Figure size 432x288 with 1 Axes>"
      ]
     },
     "metadata": {
      "needs_background": "light"
     },
     "output_type": "display_data"
    }
   ],
   "source": [
    "# YOUR CODE HERE\n",
    "from sklearn.metrics import roc_curve, auc\n",
    "from sklearn.preprocessing import label_binarize\n",
    "from sklearn.multiclass import OneVsRestClassifier\n",
    "import matplotlib.pyplot as plt\n",
    "from sklearn.metrics import roc_auc_score\n",
    "\n",
    "def train_and_test1(trainX, trainY, devX, devY, feature_functions, tokenizer):\n",
    "    # Pre-process training documents. \n",
    "    trainX_feat = docs2features(trainX, feature_functions, tokenizer)\n",
    "\n",
    "    # Create vocabulary from features in training examples.\n",
    "    feature_vocab = create_vocab(trainX_feat)\n",
    "\n",
    "    trainX_ids = features_to_ids(trainX_feat, feature_vocab)\n",
    "    \n",
    "     # Pre-process test documents. \n",
    "    devX_feat = docs2features(devX, feature_functions, tokenizer)\n",
    "    devX_ids = features_to_ids(devX_feat, feature_vocab)\n",
    "    \n",
    "    # Train LR model.\n",
    "    lr_model = LogisticRegression(penalty = 'l2', C = 1.0, solver = 'lbfgs', max_iter = 1000)\n",
    "    lr_model.fit(trainX_ids, trainY)\n",
    "    \n",
    "    lr_probs = lr_model.predict_proba(devX_ids)[:, 1]\n",
    "    \n",
    "    devY_num = []\n",
    "    for x in devY:\n",
    "        if x == 'hate':\n",
    "            devY_num.append(0)\n",
    "        else:\n",
    "            devY_num.append(1)\n",
    "            \n",
    "    fpr1, tpr1, thresholds1 = roc_curve(devY_num, lr_probs)\n",
    "    \n",
    "    \n",
    "    # roc curve for classes\n",
    "    plt.plot([0,1],[0,1],'k--')\n",
    "    plt.plot(fpr1, tpr1, label='Logistic Regression', color='red')\n",
    "\n",
    "    \n",
    "    # axis labels\n",
    "    plt.xlabel('False Positive Rate')\n",
    "    plt.ylabel('True Positive Rate')\n",
    "    \n",
    "    # show the plot\n",
    "    plt.show()\n",
    "    \n",
    "    \n",
    "# features = [word_features, feature_len, feature_stopwords]\n",
    "features = [word_features]\n",
    "train_and_test1(trainX, trainY, devX, devY, features, spacy_tokenizer)"
   ]
  },
  {
   "cell_type": "code",
   "execution_count": null,
   "metadata": {},
   "outputs": [],
   "source": []
  },
  {
   "cell_type": "markdown",
   "metadata": {},
   "source": [
    "## Bonus points ##\n",
    "\n",
    "Anything extra goes here.\n"
   ]
  },
  {
   "cell_type": "code",
   "execution_count": 22,
   "metadata": {},
   "outputs": [],
   "source": [
    "def feature_retweet(tokens):\n",
    "    retweet = 0\n",
    "    for token in tokens:\n",
    "        if token.lower() == 'rt':\n",
    "            retweet += 1\n",
    "            \n",
    "    return {'RETWEET_COUNT' : retweet}"
   ]
  },
  {
   "cell_type": "code",
   "execution_count": 23,
   "metadata": {},
   "outputs": [],
   "source": [
    "def feature_stopwords(tokens):\n",
    "    stopwords = spacy_nlp.Defaults.stop_words\n",
    "    count = 0\n",
    "    for token in tokens:\n",
    "        if token.isalpha():\n",
    "            if token.lower() in stopwords:\n",
    "                count += 1\n",
    "    return {'DEICTIC_COUNT':count}   "
   ]
  },
  {
   "cell_type": "code",
   "execution_count": 24,
   "metadata": {},
   "outputs": [
    {
     "name": "stdout",
     "output_type": "stream",
     "text": [
      "Processed 100 examples into features\n",
      "Processed 200 examples into features\n",
      "Processed 300 examples into features\n",
      "Processed 400 examples into features\n",
      "Processed 500 examples into features\n",
      "Processed 600 examples into features\n",
      "Processed 700 examples into features\n",
      "Processed 800 examples into features\n",
      "Processed 900 examples into features\n",
      "Processed 1000 examples into features\n",
      "Vocabulary size: 5302\n",
      "Processed 100 examples into features\n",
      "Accuracy: 0.823\n"
     ]
    }
   ],
   "source": [
    "features = [word_features, feature_urls, feature_mentions, feature_hashtags, feature_len, feature_stopwords]\n",
    "train_and_test(trainX, trainY, devX, devY, features, spacy_tokenizer)"
   ]
  },
  {
   "cell_type": "code",
   "execution_count": 25,
   "metadata": {},
   "outputs": [
    {
     "name": "stdout",
     "output_type": "stream",
     "text": [
      "Processed 100 examples into features\n",
      "Processed 200 examples into features\n",
      "Processed 300 examples into features\n",
      "Processed 400 examples into features\n",
      "Processed 500 examples into features\n",
      "Processed 600 examples into features\n",
      "Processed 700 examples into features\n",
      "Processed 800 examples into features\n",
      "Processed 900 examples into features\n",
      "Processed 1000 examples into features\n",
      "Vocabulary size: 5303\n",
      "Processed 100 examples into features\n",
      "Accuracy: 0.823\n"
     ]
    }
   ],
   "source": [
    "features = [word_features, feature_urls, feature_mentions, feature_hashtags, feature_len, feature_stopwords, feature_retweet]\n",
    "train_and_test(trainX, trainY, devX, devY, features, spacy_tokenizer)"
   ]
  },
  {
   "cell_type": "code",
   "execution_count": 26,
   "metadata": {},
   "outputs": [
    {
     "name": "stdout",
     "output_type": "stream",
     "text": [
      "Processed 100 examples into features\n",
      "Processed 200 examples into features\n",
      "Processed 300 examples into features\n",
      "Processed 400 examples into features\n",
      "Processed 500 examples into features\n",
      "Processed 600 examples into features\n",
      "Processed 700 examples into features\n",
      "Processed 800 examples into features\n",
      "Processed 900 examples into features\n",
      "Processed 1000 examples into features\n",
      "Vocabulary size: 5300\n",
      "Processed 100 examples into features\n",
      "Accuracy: 0.846\n"
     ]
    }
   ],
   "source": [
    "features = [word_features, feature_mentions, feature_hashtags, feature_retweet]\n",
    "train_and_test(trainX, trainY, devX, devY, features, spacy_tokenizer)"
   ]
  },
  {
   "cell_type": "markdown",
   "metadata": {},
   "source": [
    "## Analysis ##\n",
    "Include an analysis of the results that you obtained in the experiments above."
   ]
  },
  {
   "cell_type": "markdown",
   "metadata": {},
   "source": [
    "# Please refer to the Analysis_Report.pdf   "
   ]
  }
 ],
 "metadata": {
  "kernelspec": {
   "display_name": "Python 3 (ipykernel)",
   "language": "python",
   "name": "python3"
  },
  "language_info": {
   "codemirror_mode": {
    "name": "ipython",
    "version": 3
   },
   "file_extension": ".py",
   "mimetype": "text/x-python",
   "name": "python",
   "nbconvert_exporter": "python",
   "pygments_lexer": "ipython3",
   "version": "3.9.10"
  }
 },
 "nbformat": 4,
 "nbformat_minor": 4
}
